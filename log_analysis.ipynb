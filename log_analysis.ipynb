{
  "nbformat": 4,
  "nbformat_minor": 0,
  "metadata": {
    "colab": {
      "name": "log_analysis.ipynb",
      "provenance": [],
      "collapsed_sections": [
        "htSnr_jaXNK6",
        "IUD30GtJXWmC",
        "AVMrW_lmXjJm"
      ],
      "authorship_tag": "ABX9TyNYeRO6uu+O5kwSEnPHjsWy",
      "include_colab_link": true
    },
    "kernelspec": {
      "name": "python3",
      "display_name": "Python 3"
    }
  },
  "cells": [
    {
      "cell_type": "markdown",
      "metadata": {
        "id": "view-in-github",
        "colab_type": "text"
      },
      "source": [
        "<a href=\"https://colab.research.google.com/github/SaraTouzani/Log_Analysis/blob/master/log_analysis.ipynb\" target=\"_parent\"><img src=\"https://colab.research.google.com/assets/colab-badge.svg\" alt=\"Open In Colab\"/></a>"
      ]
    },
    {
      "cell_type": "code",
      "metadata": {
        "id": "wQKPvNXscM0T",
        "colab_type": "code",
        "colab": {}
      },
      "source": [
        "%%capture\n",
        "!pip install httpagentparser\n",
        "!pip install wget\n"
      ],
      "execution_count": null,
      "outputs": []
    },
    {
      "cell_type": "code",
      "metadata": {
        "id": "zL6cdS0UjmdF",
        "colab_type": "code",
        "colab": {}
      },
      "source": [
        "import requests\n",
        "import wget\n",
        "import re\n",
        "import pandas as pd\n",
        "from datetime import datetime\n",
        "import pytz\n",
        "import httpagentparser\n",
        "import numpy as np\n",
        "import matplotlib.pyplot as plt"
      ],
      "execution_count": null,
      "outputs": []
    },
    {
      "cell_type": "code",
      "metadata": {
        "id": "6uPvy9ZrlPIi",
        "colab_type": "code",
        "colab": {}
      },
      "source": [
        "%%capture\n",
        "!wget http://www.almhuette-raith.at/apache-log/access.log"
      ],
      "execution_count": null,
      "outputs": []
    },
    {
      "cell_type": "markdown",
      "metadata": {
        "id": "PH0YrwnwouPI",
        "colab_type": "text"
      },
      "source": [
        "une ligne du log file est comme suit  :"
      ]
    },
    {
      "cell_type": "markdown",
      "metadata": {
        "id": "v27fcNhfpg3R",
        "colab_type": "text"
      },
      "source": [
        "\n",
        "\n",
        "```\n",
        "# 95.29.198.15 - - [12/Dec/2015:18:32:11 +0100] \"POST /administrator/index.php HTTP/1.1\" 200 4494 \"http://almhuette-raith.at/administrator/\" \"Mozilla/5.0 (Windows NT 6.0; rv:34.0) Gecko/20100101 Firefox/34.0\" \"-\"\\n\n",
        "```\n"
      ]
    },
    {
      "cell_type": "markdown",
      "metadata": {
        "id": "vj17pkF-qB6-",
        "colab_type": "text"
      },
      "source": [
        "```\n",
        "LogFormat \"%h %l %u %t \\\"%r\\\" %>s %b \\\"%{Referer}i\\\" \\\"%{User-agent}i\\\"\" combined\n",
        "```"
      ]
    },
    {
      "cell_type": "markdown",
      "metadata": {
        "id": "mWYftM7SqQjI",
        "colab_type": "text"
      },
      "source": [
        "qui correspond à :\n",
        "`%h` : l'adresse IP du client ;\n",
        "\n",
        "`%l` : est l'identité RFC ;\n",
        "\n",
        "`%u` : est l'ID utilisateur;\n",
        "\n",
        "`%test` : l'heure, par défaut, formatée comme \n",
        "```[day/month/year:hour:minute:second zone];```\n",
        "\n",
        "`\\\"%r\\\"` : est la chaîne de requête, au format \"method resource protocol\"\n",
        "\n",
        "`%>s` : est le code d'état;\n",
        "\n",
        "`%O` : est la taille de la demande;\n",
        "\n",
        "`\\\"%{Referer}i\\\"` : est l'en-tête de la requête HTTP \n",
        "\n",
        "`\\\"%{User-Agent}i\\\" `:est l'en-tête de la requête HTTP User-Agent."
      ]
    },
    {
      "cell_type": "code",
      "metadata": {
        "id": "OlgJxvnaj94J",
        "colab_type": "code",
        "colab": {}
      },
      "source": [
        "\n",
        "def parse_str(x):\n",
        "    \"\"\"\n",
        "    Returns the string delimited by two characters.\n",
        "\n",
        "    Example:\n",
        "        `>>> parse_str('[my string]')`\n",
        "        `'my string'`\n",
        "    \"\"\"\n",
        "    if x:\n",
        "      return x[1:-1]\n",
        "    else:\n",
        "      print(x,\"null\")\n",
        "      return ''\n",
        "\n",
        "def parse_browser(x):\n",
        "    \"\"\"\n",
        "    Returns the browser inside the string.\n",
        "\n",
        "    \"\"\"\n",
        "    if x:\n",
        "      print(\"start\",x)\n",
        "      u_a=re.findall('\" \"(.*?)\"', x)[0]\n",
        "      print(u_a)\n",
        "      browser=(httpagentparser.detect(u_a,fill_none=True))['browser']['name']\n",
        "      if browser:\n",
        "        return browser\n",
        "      else:\n",
        "        print(browser,\" browser null\")\n",
        "        return ''\n",
        "    else:\n",
        "      print(x,\" browser null\")\n",
        "      return x\n",
        "\n",
        "def parse_datetime(x):\n",
        "    '''\n",
        "    Parses datetime as:\n",
        "        `[day/month/year:hour:minute]`\n",
        "    if parser couldn't handle extracting the date i keep the string as it is and filter them later\n",
        "    '''\n",
        "    if x:\n",
        "      try:\n",
        "        dt = datetime.strptime(x[1:-7], '%d/%b/%Y:%H:%M:%S')\n",
        "      except ValueError: \n",
        "          dt=None\n",
        "    else:\n",
        "      dt=None\n",
        "    \n",
        "    return dt"
      ],
      "execution_count": null,
      "outputs": []
    },
    {
      "cell_type": "markdown",
      "metadata": {
        "id": "bExrB4mnsQYA",
        "colab_type": "text"
      },
      "source": [
        "#Chargement / Traitement des Données \n",
        "\n",
        "\n"
      ]
    },
    {
      "cell_type": "code",
      "metadata": {
        "id": "LwvtceM_ki8K",
        "colab_type": "code",
        "colab": {}
      },
      "source": [
        "\n",
        "data = pd.read_csv(\n",
        "    '/content/access.log',\n",
        "    sep=r'\\s(?=(?:[^\"]*\"[^\"]*\")*[^\"]*$)(?![^\\[]*\\])',\n",
        "    engine='python',\n",
        "    na_values='-',\n",
        "    header=None,\n",
        "    usecols=[0, 3, 4,  7, 8],\n",
        "    names=['ip', 'time', 'request',  'referer', 'user_agent'],\n",
        "    converters={'time': parse_datetime,\n",
        "                'request': parse_str,\n",
        "                'referer': parse_str,\n",
        "                'user_agent': parse_str,\n",
        "                })"
      ],
      "execution_count": null,
      "outputs": []
    },
    {
      "cell_type": "code",
      "metadata": {
        "id": "aUb7T92Vu1a2",
        "colab_type": "code",
        "colab": {
          "base_uri": "https://localhost:8080/",
          "height": 202
        },
        "outputId": "55d9b98d-db2e-4e4e-9777-f30de134b6ab"
      },
      "source": [
        "data.head()"
      ],
      "execution_count": null,
      "outputs": [
        {
          "output_type": "execute_result",
          "data": {
            "text/html": [
              "<div>\n",
              "<style scoped>\n",
              "    .dataframe tbody tr th:only-of-type {\n",
              "        vertical-align: middle;\n",
              "    }\n",
              "\n",
              "    .dataframe tbody tr th {\n",
              "        vertical-align: top;\n",
              "    }\n",
              "\n",
              "    .dataframe thead th {\n",
              "        text-align: right;\n",
              "    }\n",
              "</style>\n",
              "<table border=\"1\" class=\"dataframe\">\n",
              "  <thead>\n",
              "    <tr style=\"text-align: right;\">\n",
              "      <th></th>\n",
              "      <th>ip</th>\n",
              "      <th>time</th>\n",
              "      <th>request</th>\n",
              "      <th>referer</th>\n",
              "      <th>user_agent</th>\n",
              "    </tr>\n",
              "  </thead>\n",
              "  <tbody>\n",
              "    <tr>\n",
              "      <th>0</th>\n",
              "      <td>109.169.248.247</td>\n",
              "      <td>2015-12-12 18:25:11</td>\n",
              "      <td>GET /administrator/ HTTP/1.1</td>\n",
              "      <td>NaN</td>\n",
              "      <td>Mozilla/5.0 (Windows NT 6.0; rv:34.0) Gecko/20...</td>\n",
              "    </tr>\n",
              "    <tr>\n",
              "      <th>1</th>\n",
              "      <td>109.169.248.247</td>\n",
              "      <td>2015-12-12 18:25:11</td>\n",
              "      <td>POST /administrator/index.php HTTP/1.1</td>\n",
              "      <td>http://almhuette-raith.at/administrator/</td>\n",
              "      <td>Mozilla/5.0 (Windows NT 6.0; rv:34.0) Gecko/20...</td>\n",
              "    </tr>\n",
              "    <tr>\n",
              "      <th>2</th>\n",
              "      <td>46.72.177.4</td>\n",
              "      <td>2015-12-12 18:31:08</td>\n",
              "      <td>GET /administrator/ HTTP/1.1</td>\n",
              "      <td>NaN</td>\n",
              "      <td>Mozilla/5.0 (Windows NT 6.0; rv:34.0) Gecko/20...</td>\n",
              "    </tr>\n",
              "    <tr>\n",
              "      <th>3</th>\n",
              "      <td>46.72.177.4</td>\n",
              "      <td>2015-12-12 18:31:08</td>\n",
              "      <td>POST /administrator/index.php HTTP/1.1</td>\n",
              "      <td>http://almhuette-raith.at/administrator/</td>\n",
              "      <td>Mozilla/5.0 (Windows NT 6.0; rv:34.0) Gecko/20...</td>\n",
              "    </tr>\n",
              "    <tr>\n",
              "      <th>4</th>\n",
              "      <td>83.167.113.100</td>\n",
              "      <td>2015-12-12 18:31:25</td>\n",
              "      <td>GET /administrator/ HTTP/1.1</td>\n",
              "      <td>NaN</td>\n",
              "      <td>Mozilla/5.0 (Windows NT 6.0; rv:34.0) Gecko/20...</td>\n",
              "    </tr>\n",
              "  </tbody>\n",
              "</table>\n",
              "</div>"
            ],
            "text/plain": [
              "                ip  ...                                         user_agent\n",
              "0  109.169.248.247  ...  Mozilla/5.0 (Windows NT 6.0; rv:34.0) Gecko/20...\n",
              "1  109.169.248.247  ...  Mozilla/5.0 (Windows NT 6.0; rv:34.0) Gecko/20...\n",
              "2      46.72.177.4  ...  Mozilla/5.0 (Windows NT 6.0; rv:34.0) Gecko/20...\n",
              "3      46.72.177.4  ...  Mozilla/5.0 (Windows NT 6.0; rv:34.0) Gecko/20...\n",
              "4   83.167.113.100  ...  Mozilla/5.0 (Windows NT 6.0; rv:34.0) Gecko/20...\n",
              "\n",
              "[5 rows x 5 columns]"
            ]
          },
          "metadata": {
            "tags": []
          },
          "execution_count": 34
        }
      ]
    },
    {
      "cell_type": "code",
      "metadata": {
        "id": "DqxBgjEGYDdC",
        "colab_type": "code",
        "colab": {
          "base_uri": "https://localhost:8080/",
          "height": 121
        },
        "outputId": "5c41ea4b-fef8-4e87-c15a-176b5fff0720"
      },
      "source": [
        "data.dtypes"
      ],
      "execution_count": null,
      "outputs": [
        {
          "output_type": "execute_result",
          "data": {
            "text/plain": [
              "ip                    object\n",
              "time          datetime64[ns]\n",
              "request               object\n",
              "referer               object\n",
              "user_agent            object\n",
              "dtype: object"
            ]
          },
          "metadata": {
            "tags": []
          },
          "execution_count": 35
        }
      ]
    },
    {
      "cell_type": "code",
      "metadata": {
        "id": "fcZO68fjYKc-",
        "colab_type": "code",
        "colab": {}
      },
      "source": [
        "data_copy=data.copy()"
      ],
      "execution_count": null,
      "outputs": []
    },
    {
      "cell_type": "markdown",
      "metadata": {
        "id": "38SerK8AWozn",
        "colab_type": "text"
      },
      "source": [
        "Extraction de la liste des navigateurs\n",
        "\n",
        "\n",
        "\n"
      ]
    },
    {
      "cell_type": "code",
      "metadata": {
        "id": "0uQGrw9Qv6JA",
        "colab_type": "code",
        "colab": {}
      },
      "source": [
        "browsers = list(map(lambda line: (httpagentparser.detect(line,fill_none=True))['browser']['name'],list(data_copy['user_agent'])))"
      ],
      "execution_count": null,
      "outputs": []
    },
    {
      "cell_type": "code",
      "metadata": {
        "id": "q7PW6UIWwHfR",
        "colab_type": "code",
        "colab": {}
      },
      "source": [
        "data_finale=pd.concat([data,pd.DataFrame(browsers,columns=['browsers'])],axis=1)"
      ],
      "execution_count": null,
      "outputs": []
    },
    {
      "cell_type": "code",
      "metadata": {
        "id": "bywZbI2z5q2U",
        "colab_type": "code",
        "colab": {
          "base_uri": "https://localhost:8080/",
          "height": 289
        },
        "outputId": "4aa3a061-937c-449e-f07b-17fc11f4ca5f"
      },
      "source": [
        "data_finale.head()"
      ],
      "execution_count": null,
      "outputs": [
        {
          "output_type": "execute_result",
          "data": {
            "text/html": [
              "<div>\n",
              "<style scoped>\n",
              "    .dataframe tbody tr th:only-of-type {\n",
              "        vertical-align: middle;\n",
              "    }\n",
              "\n",
              "    .dataframe tbody tr th {\n",
              "        vertical-align: top;\n",
              "    }\n",
              "\n",
              "    .dataframe thead th {\n",
              "        text-align: right;\n",
              "    }\n",
              "</style>\n",
              "<table border=\"1\" class=\"dataframe\">\n",
              "  <thead>\n",
              "    <tr style=\"text-align: right;\">\n",
              "      <th></th>\n",
              "      <th>ip</th>\n",
              "      <th>time</th>\n",
              "      <th>request</th>\n",
              "      <th>referer</th>\n",
              "      <th>user_agent</th>\n",
              "      <th>browsers</th>\n",
              "    </tr>\n",
              "  </thead>\n",
              "  <tbody>\n",
              "    <tr>\n",
              "      <th>0</th>\n",
              "      <td>109.169.248.247</td>\n",
              "      <td>2015-12-12 18:25:00</td>\n",
              "      <td>GET /administrator/ HTTP/1.1</td>\n",
              "      <td>NaN</td>\n",
              "      <td>Mozilla/5.0 (Windows NT 6.0; rv:34.0) Gecko/20...</td>\n",
              "      <td>Firefox</td>\n",
              "    </tr>\n",
              "    <tr>\n",
              "      <th>1</th>\n",
              "      <td>109.169.248.247</td>\n",
              "      <td>2015-12-12 18:25:00</td>\n",
              "      <td>POST /administrator/index.php HTTP/1.1</td>\n",
              "      <td>http://almhuette-raith.at/administrator/</td>\n",
              "      <td>Mozilla/5.0 (Windows NT 6.0; rv:34.0) Gecko/20...</td>\n",
              "      <td>Firefox</td>\n",
              "    </tr>\n",
              "    <tr>\n",
              "      <th>2</th>\n",
              "      <td>46.72.177.4</td>\n",
              "      <td>2015-12-12 18:31:00</td>\n",
              "      <td>GET /administrator/ HTTP/1.1</td>\n",
              "      <td>NaN</td>\n",
              "      <td>Mozilla/5.0 (Windows NT 6.0; rv:34.0) Gecko/20...</td>\n",
              "      <td>Firefox</td>\n",
              "    </tr>\n",
              "    <tr>\n",
              "      <th>3</th>\n",
              "      <td>46.72.177.4</td>\n",
              "      <td>2015-12-12 18:31:00</td>\n",
              "      <td>POST /administrator/index.php HTTP/1.1</td>\n",
              "      <td>http://almhuette-raith.at/administrator/</td>\n",
              "      <td>Mozilla/5.0 (Windows NT 6.0; rv:34.0) Gecko/20...</td>\n",
              "      <td>Firefox</td>\n",
              "    </tr>\n",
              "    <tr>\n",
              "      <th>4</th>\n",
              "      <td>83.167.113.100</td>\n",
              "      <td>2015-12-12 18:31:00</td>\n",
              "      <td>GET /administrator/ HTTP/1.1</td>\n",
              "      <td>NaN</td>\n",
              "      <td>Mozilla/5.0 (Windows NT 6.0; rv:34.0) Gecko/20...</td>\n",
              "      <td>Firefox</td>\n",
              "    </tr>\n",
              "  </tbody>\n",
              "</table>\n",
              "</div>"
            ],
            "text/plain": [
              "                ip  ... browsers\n",
              "0  109.169.248.247  ...  Firefox\n",
              "1  109.169.248.247  ...  Firefox\n",
              "2      46.72.177.4  ...  Firefox\n",
              "3      46.72.177.4  ...  Firefox\n",
              "4   83.167.113.100  ...  Firefox\n",
              "\n",
              "[5 rows x 6 columns]"
            ]
          },
          "metadata": {
            "tags": []
          },
          "execution_count": 33
        }
      ]
    },
    {
      "cell_type": "markdown",
      "metadata": {
        "id": "w0aPnroYrFGH",
        "colab_type": "text"
      },
      "source": [
        "# Analyse du Log"
      ]
    },
    {
      "cell_type": "markdown",
      "metadata": {
        "id": "htSnr_jaXNK6",
        "colab_type": "text"
      },
      "source": [
        "## Nombre de lignes dans le fichier :\n",
        "\n",
        "\n",
        "\n"
      ]
    },
    {
      "cell_type": "code",
      "metadata": {
        "id": "kp_DRx986oCJ",
        "colab_type": "code",
        "colab": {
          "base_uri": "https://localhost:8080/",
          "height": 35
        },
        "outputId": "34c57cb2-ea8a-4205-f6d8-012a20070fa4"
      },
      "source": [
        "print(\"nombre de lignes: \",len(data_finale))"
      ],
      "execution_count": null,
      "outputs": [
        {
          "output_type": "stream",
          "text": [
            "nombre de lignes:  5880521\n"
          ],
          "name": "stdout"
        }
      ]
    },
    {
      "cell_type": "markdown",
      "metadata": {
        "id": "IUD30GtJXWmC",
        "colab_type": "text"
      },
      "source": [
        "## Nombre des @IP uniques qui sont logués :"
      ]
    },
    {
      "cell_type": "code",
      "metadata": {
        "id": "bfAnggkf7FAu",
        "colab_type": "code",
        "colab": {
          "base_uri": "https://localhost:8080/",
          "height": 35
        },
        "outputId": "ef4aa5bf-4c33-401e-acb9-3cd0dbd3a4ee"
      },
      "source": [
        "print(\"nombre de ips uniques: \",len(set(data_finale.ip)))"
      ],
      "execution_count": null,
      "outputs": [
        {
          "output_type": "stream",
          "text": [
            "nombre de ips uniques:  75950\n"
          ],
          "name": "stdout"
        }
      ]
    },
    {
      "cell_type": "markdown",
      "metadata": {
        "id": "AVMrW_lmXjJm",
        "colab_type": "text"
      },
      "source": [
        "\n",
        "\n",
        "## Nombre de  de requêtes en moyenne par IP :"
      ]
    },
    {
      "cell_type": "code",
      "metadata": {
        "id": "-h7JTbw9-9oE",
        "colab_type": "code",
        "colab": {
          "base_uri": "https://localhost:8080/",
          "height": 35
        },
        "outputId": "852ff3a4-ea48-4d1f-d585-88257858f5db"
      },
      "source": [
        "counts_ips = (data_finale['ip']).value_counts(sort=True)\n",
        "print(\"moyenne de requette par /ip: \",counts_ips.mean())"
      ],
      "execution_count": null,
      "outputs": [
        {
          "output_type": "stream",
          "text": [
            "moyenne de requette par /ip:  77.4262146148782\n"
          ],
          "name": "stdout"
        }
      ]
    },
    {
      "cell_type": "markdown",
      "metadata": {
        "id": "SEnbBQxTXubm",
        "colab_type": "text"
      },
      "source": [
        "##4) data viz"
      ]
    },
    {
      "cell_type": "markdown",
      "metadata": {
        "id": "AknjGly_X6Cl",
        "colab_type": "text"
      },
      "source": [
        "### la répartition par navigateur des visiteurs"
      ]
    },
    {
      "cell_type": "code",
      "metadata": {
        "id": "N7TZbkP37VSP",
        "colab_type": "code",
        "colab": {}
      },
      "source": [
        "counts_browser = (data_finale['browsers']).value_counts(sort=True)"
      ],
      "execution_count": null,
      "outputs": []
    },
    {
      "cell_type": "code",
      "metadata": {
        "id": "YyOIz5ZA5wvb",
        "colab_type": "code",
        "colab": {
          "base_uri": "https://localhost:8080/",
          "height": 591
        },
        "outputId": "c5c322b8-6c3e-4fda-df75-d5ec7436e0dd"
      },
      "source": [
        "fig, ax = plt.subplots(figsize=(10, 10), subplot_kw=dict(aspect=\"equal\"))\n",
        "data=(counts_browser[0:6]).values\n",
        "labels=(counts_browser[0:6]).index\n",
        "\n",
        "\n",
        "def func(pct, allvals):\n",
        "    absolute = int(pct/100.*np.sum(allvals))\n",
        "    return \"{:.1f}%\\n({:d} )\".format(pct, absolute)\n",
        "\n",
        "\n",
        "wedges, texts, autotexts = ax.pie(data, autopct=lambda pct: func(pct, data),\n",
        "                                  textprops=dict(color=\"w\"))\n",
        "\n",
        "\n",
        "ax.legend(wedges, labels,\n",
        "          title=\"Navigateur\",\n",
        "          loc=\"center left\",\n",
        "          bbox_to_anchor=(1, 0, 0.5, 1))\n",
        "\n",
        "plt.setp(autotexts, size=8, weight=\"bold\")\n",
        "\n",
        "ax.set_title(\"répartition des visites par les 6 navigateurs les plus visités\")\n",
        "\n",
        "plt.show()"
      ],
      "execution_count": null,
      "outputs": [
        {
          "output_type": "display_data",
          "data": {
            "image/png": "[encoded data removed]",
            "text/plain": [
              "<Figure size 720x720 with 1 Axes>"
            ]
          },
          "metadata": {
            "tags": []
          }
        }
      ]
    },
    {
      "cell_type": "markdown",
      "metadata": {
        "id": "TdtGi55eHvLG",
        "colab_type": "text"
      },
      "source": [
        "## Ventilation du nombre de visiteurs unique sur le temps par jour de la semaine et par heure."
      ]
    },
    {
      "cell_type": "code",
      "metadata": {
        "id": "bwHOICRR8nLP",
        "colab_type": "code",
        "colab": {}
      },
      "source": [
        "dates_index=[i for i in range(len(data_finale)) if type(data_finale.time[i])==pd._libs.tslibs.timestamps.Timestamp]"
      ],
      "execution_count": null,
      "outputs": []
    },
    {
      "cell_type": "code",
      "metadata": {
        "id": "dctC7u-fRUjd",
        "colab_type": "code",
        "colab": {}
      },
      "source": [
        "data_finale_d=data_finale.loc[dates_index,]##filtrage des ligne qui ne contiennent pas des dates"
      ],
      "execution_count": null,
      "outputs": []
    },
    {
      "cell_type": "code",
      "metadata": {
        "id": "09QyjZXHMX71",
        "colab_type": "code",
        "colab": {}
      },
      "source": [
        "## extraction du jour de la semaine\n",
        "data_finale_d['weekday'] = data_finale_d['time'].apply(lambda x: x.isoweekday())\n",
        "weekdays = data_finale_d.groupby('weekday')['ip'].agg(len)\n",
        "weekdays_perc = weekdays.divide(weekdays.sum())*100"
      ],
      "execution_count": null,
      "outputs": []
    },
    {
      "cell_type": "code",
      "metadata": {
        "id": "bLa3chV38UZT",
        "colab_type": "code",
        "colab": {
          "base_uri": "https://localhost:8080/",
          "height": 35
        },
        "outputId": "d3a1197e-c38b-4fde-ad0f-0391a3a513e0"
      },
      "source": [
        "weekdays_perc.sum()"
      ],
      "execution_count": null,
      "outputs": [
        {
          "output_type": "execute_result",
          "data": {
            "text/plain": [
              "99.99999999999999"
            ]
          },
          "metadata": {
            "tags": []
          },
          "execution_count": 49
        }
      ]
    },
    {
      "cell_type": "code",
      "metadata": {
        "id": "o2jVkBMTJ-6x",
        "colab_type": "code",
        "colab": {
          "base_uri": "https://localhost:8080/",
          "height": 295
        },
        "outputId": "680e97b0-4c83-4a6b-f9a9-7ad5a13ff1fa"
      },
      "source": [
        "weekdays.index = ['lun', 'mar', 'mer', 'jeu', 'vend', 'sam', 'dim']\n",
        "weekdays.plot(kind='barh')\n",
        "plt.title('Nombre de visiteurs unique par jour de la semaine')\n",
        "plt.xlabel('Nbr de visites')\n",
        "plt.ylabel('Jours de la semaine')\n",
        "plt.show()"
      ],
      "execution_count": null,
      "outputs": [
        {
          "output_type": "display_data",
          "data": {
            "image/png": "[encoded data removed]",
            "text/plain": [
              "<Figure size 432x288 with 1 Axes>"
            ]
          },
          "metadata": {
            "tags": [],
            "needs_background": "light"
          }
        }
      ]
    },
    {
      "cell_type": "code",
      "metadata": {
        "id": "Iwgh1oVsUyT0",
        "colab_type": "code",
        "colab": {
          "base_uri": "https://localhost:8080/",
          "height": 295
        },
        "outputId": "2310cf78-8c99-4631-97b3-f00152940da7"
      },
      "source": [
        "weekdays.index = ['lun', 'mar', 'mer', 'jeu', 'vend', 'sam', 'dim']\n",
        "weekdays_perc.plot(kind='barh')\n",
        "plt.title('pourcentage de visites par jour de la semaine')\n",
        "plt.xlabel('pourcentage de visites %')\n",
        "plt.ylabel('Jours de la semaine')\n",
        "plt.show()"
      ],
      "execution_count": null,
      "outputs": [
        {
          "output_type": "display_data",
          "data": {
            "image/png": "[encoded data removed]",
            "text/plain": [
              "<Figure size 432x288 with 1 Axes>"
            ]
          },
          "metadata": {
            "tags": [],
            "needs_background": "light"
          }
        }
      ]
    },
    {
      "cell_type": "code",
      "metadata": {
        "id": "bOKmDeTXS55X",
        "colab_type": "code",
        "colab": {}
      },
      "source": [
        "#data_finale_d.groupby('ip').groups"
      ],
      "execution_count": null,
      "outputs": []
    },
    {
      "cell_type": "code",
      "metadata": {
        "colab_type": "code",
        "id": "vNIrENbnT9xR",
        "colab": {}
      },
      "source": [
        "## extraction de l'heure\n",
        "data_finale_d['hour'] = data_finale_d['time'].apply(lambda x: x.hour)\n",
        "hours = data_finale_d.groupby('hour')['ip'].agg(len)\n",
        "hours_perc = hours.divide(hours.sum())*100"
      ],
      "execution_count": null,
      "outputs": []
    },
    {
      "cell_type": "code",
      "metadata": {
        "id": "b_O29KWAYaQQ",
        "colab_type": "code",
        "colab": {
          "base_uri": "https://localhost:8080/",
          "height": 304
        },
        "outputId": "1ef5a2d1-3892-446e-b0ae-a1656065b75c"
      },
      "source": [
        "hours_perc.index = ['0h', '1h', '2h', '3h', '4h', '5h', '6h','7h','8h','9h','10h','11h', '12h', '13h', '14h', '15h', '16h','17h','18h','19h','20h','21h','22h','23h']\n",
        "hours_perc.plot(kind='bar')\n",
        "plt.title('Pourcentage des visites pendant la journée')\n",
        "plt.ylabel('pourcentage de visites %')\n",
        "plt.xlabel('Heures(h)')\n",
        "plt.show()"
      ],
      "execution_count": null,
      "outputs": [
        {
          "output_type": "display_data",
          "data": {
            "image/png": "[encoded data removed]",
            "text/plain": [
              "<Figure size 432x288 with 1 Axes>"
            ]
          },
          "metadata": {
            "tags": [],
            "needs_background": "light"
          }
        }
      ]
    },
    {
      "cell_type": "markdown",
      "metadata": {
        "id": "sjD-dwZEZwUk",
        "colab_type": "text"
      },
      "source": [
        "## Annalyse par session\n",
        "\n",
        "Combien y a t-il de session en moyenne par jour ? Combien y a t-il de\n",
        "session en moyenne par IP ? Combien y a-t-il de requêtes par session ?\n",
        "\n",
        " *Une session est un ensemble de requêtes provenant d'une même IP qui\n",
        "sont espacées au plus de 30 minutes.*"
      ]
    },
    {
      "cell_type": "code",
      "metadata": {
        "id": "uB_B06ongyjV",
        "colab_type": "code",
        "colab": {}
      },
      "source": [
        "List_ip=list()\n",
        "nbr_session_ip=dict()#nombre de session par ip\n",
        "nbr_request_session=dict()# nombre de request par session(ip,id_periode_30)\n",
        "i=0\n",
        "for ip in set(data_finale_d.ip):\n",
        "  df=data_finale_d.loc[data_finale_d.ip==ip ,:]\n",
        "  #df.loc[:,'time'] = pd.to_datetime(df['time'])\n",
        "  diffs = df['time'] - df['time'].shift()#annoter les requettes chaque 30min pour chaque ip \n",
        "  laps = diffs > pd.Timedelta('30 min')\n",
        "  periods = laps.cumsum().apply(lambda x: x+1)\n",
        "  nbr_session_ip[ip]=periods.max()\n",
        "  counts_request_ip = (periods).value_counts(sort=True)\n",
        "  for session in counts_request_ip.index:\n",
        "    #print(session,counts_request_ip[session],ip)\n",
        "    nbr_request_session[(ip,session)]=counts_request_ip[session]\n",
        "  df.loc[:,'30min_period'] = periods\n",
        "  List_ip.append(df)\n",
        "  i=i+1\n",
        "\n",
        "\n"
      ],
      "execution_count": null,
      "outputs": []
    },
    {
      "cell_type": "code",
      "metadata": {
        "id": "sReDcNbf2sky",
        "colab_type": "code",
        "colab": {
          "base_uri": "https://localhost:8080/",
          "height": 35
        },
        "outputId": "11d7f348-d418-4359-bc75-1c50185d070d"
      },
      "source": [
        "len(set(data_finale_d.ip)),len(List_ip)"
      ],
      "execution_count": null,
      "outputs": [
        {
          "output_type": "execute_result",
          "data": {
            "text/plain": [
              "(75485, 75485)"
            ]
          },
          "metadata": {
            "tags": []
          },
          "execution_count": 126
        }
      ]
    },
    {
      "cell_type": "markdown",
      "metadata": {
        "id": "28exhn7rt-i1",
        "colab_type": "text"
      },
      "source": [
        "### Nombre de session en moyenne par IP :"
      ]
    },
    {
      "cell_type": "code",
      "metadata": {
        "id": "FYfep9nwuGgs",
        "colab_type": "code",
        "colab": {
          "base_uri": "https://localhost:8080/",
          "height": 35
        },
        "outputId": "a9a101a4-19dc-4e06-feba-6b6f2f0d7b20"
      },
      "source": [
        "print(' Nombre moyen de session par ip: ',(sum(nbr_session_ip.values()))/len(nbr_session_ip))"
      ],
      "execution_count": null,
      "outputs": [
        {
          "output_type": "stream",
          "text": [
            " Nombre moyen de session par ip:  2.8768894482347487\n"
          ],
          "name": "stdout"
        }
      ]
    },
    {
      "cell_type": "code",
      "metadata": {
        "id": "Uu8dUMrVt4qI",
        "colab_type": "code",
        "colab": {
          "base_uri": "https://localhost:8080/",
          "height": 104
        },
        "outputId": "c08b9ef5-ad0a-4849-c378-8e0ffb9ef17e"
      },
      "source": [
        "list(nbr_session_ip.items())[0:5]#(ip:nombre de session)"
      ],
      "execution_count": null,
      "outputs": [
        {
          "output_type": "execute_result",
          "data": {
            "text/plain": [
              "[('37.71.253.53', 1),\n",
              " ('186.11.78.230', 2),\n",
              " ('73.202.55.58', 1),\n",
              " ('80.211.249.13', 3),\n",
              " ('207.58.168.90', 5)]"
            ]
          },
          "metadata": {
            "tags": []
          },
          "execution_count": 128
        }
      ]
    },
    {
      "cell_type": "markdown",
      "metadata": {
        "id": "1ehuFJTUx4Bb",
        "colab_type": "text"
      },
      "source": [
        "\n",
        "\n",
        "### Nombre de requêtes par session \n",
        "pour avoir le nombre de requêtes pour une session données il faut \n",
        "passer comme clé (ip,num_session) exemple(('37.71.253.53', 1))"
      ]
    },
    {
      "cell_type": "code",
      "metadata": {
        "id": "h4HfTyABZil7",
        "colab_type": "code",
        "colab": {
          "base_uri": "https://localhost:8080/",
          "height": 35
        },
        "outputId": "0c41d511-0dd0-46c8-d0dd-dc96b1330772"
      },
      "source": [
        "print(\" Nombre de requette pour la session ('37.71.253.53', 1) est: \",nbr_request_session[('37.71.253.53', 1)])"
      ],
      "execution_count": null,
      "outputs": [
        {
          "output_type": "stream",
          "text": [
            " Nombre de requette pour la session ('37.71.253.53', 1) est:  3\n"
          ],
          "name": "stdout"
        }
      ]
    },
    {
      "cell_type": "code",
      "metadata": {
        "id": "46M2W2HYyJ_4",
        "colab_type": "code",
        "colab": {
          "base_uri": "https://localhost:8080/",
          "height": 55
        },
        "outputId": "7d111bd9-1e46-4ce7-ed89-e4b2c89a065f"
      },
      "source": [
        "print(' Nombre de requette par session: ',list(nbr_request_session.items())[0:5])"
      ],
      "execution_count": null,
      "outputs": [
        {
          "output_type": "stream",
          "text": [
            " Nombre de requette par session:  [(('37.71.253.53', 1), 3), (('186.11.78.230', 2), 1), (('186.11.78.230', 1), 1), (('73.202.55.58', 1), 1), (('80.211.249.13', 3), 3)]\n"
          ],
          "name": "stdout"
        }
      ]
    },
    {
      "cell_type": "code",
      "metadata": {
        "id": "cqESpiRIeWQN",
        "colab_type": "code",
        "colab": {}
      },
      "source": [
        "Data=pd.concat(List_ip)"
      ],
      "execution_count": null,
      "outputs": []
    }
  ]
}